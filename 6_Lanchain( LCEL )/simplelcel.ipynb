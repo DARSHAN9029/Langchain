{
 "cells": [
  {
   "cell_type": "markdown",
   "id": "166a0f78",
   "metadata": {},
   "source": [
    "# Building simple gen ai app using LCEL(Langchain Expression language)"
   ]
  },
  {
   "cell_type": "code",
   "execution_count": 11,
   "id": "5fcfbf3a",
   "metadata": {},
   "outputs": [],
   "source": [
    "import os\n",
    "from dotenv import load_dotenv\n",
    "load_dotenv()\n",
    "\n",
    "groq_api_key=os.getenv(\"GROQ_API_KEY\")"
   ]
  },
  {
   "cell_type": "code",
   "execution_count": 16,
   "id": "c3d1e198",
   "metadata": {},
   "outputs": [],
   "source": [
    "from langchain_groq import ChatGroq\n",
    "\n",
    "model=ChatGroq(model=\"Gemma2-9b-It\",groq_api_key=groq_api_key)"
   ]
  },
  {
   "cell_type": "code",
   "execution_count": 18,
   "id": "01475629",
   "metadata": {},
   "outputs": [],
   "source": [
    "## Building an LLM application\n",
    "\n",
    "from langchain_core.messages import HumanMessage,SystemMessage\n",
    "\n",
    "#SystemMessage---->It instructs the llm how it needs to behave(work like a translator in this case)\n",
    "#HumanMessage----->ip from human\n",
    "\n",
    "\n",
    "messages=[\n",
    "    SystemMessage(content=\"Transalte the following from English to French\"),\n",
    "    HumanMessage(content=\"Hello , HOow are you?\")\n",
    "]\n",
    "\n",
    "response=model.invoke(messages)\n"
   ]
  },
  {
   "cell_type": "code",
   "execution_count": 22,
   "id": "d54a4eec",
   "metadata": {},
   "outputs": [
    {
     "data": {
      "text/plain": [
       "AIMessage(content=\"Hello, how are you?  \\n\\nHere are a few ways to translate it:\\n\\n* **Bonjour, comment allez-vous ?** (Formal)\\n* **Salut, comment vas-tu ?** (Informal) \\n\\n\\n\\nLet me know if you'd like to see more variations!\\n\", additional_kwargs={}, response_metadata={'token_usage': {'completion_tokens': 63, 'prompt_tokens': 24, 'total_tokens': 87, 'completion_time': 0.114545455, 'prompt_time': 0.002157076, 'queue_time': 0.260474392, 'total_time': 0.116702531}, 'model_name': 'Gemma2-9b-It', 'system_fingerprint': 'fp_10c08bf97d', 'finish_reason': 'stop', 'logprobs': None}, id='run--7a656771-cdc5-4a3c-aa62-4d6830c65823-0', usage_metadata={'input_tokens': 24, 'output_tokens': 63, 'total_tokens': 87})"
      ]
     },
     "execution_count": 22,
     "metadata": {},
     "output_type": "execute_result"
    }
   ],
   "source": [
    "response"
   ]
  },
  {
   "cell_type": "code",
   "execution_count": 25,
   "id": "fe63c7e4",
   "metadata": {},
   "outputs": [
    {
     "data": {
      "text/plain": [
       "\"Hello, how are you?  \\n\\nHere are a few ways to translate it:\\n\\n* **Bonjour, comment allez-vous ?** (Formal)\\n* **Salut, comment vas-tu ?** (Informal) \\n\\n\\n\\nLet me know if you'd like to see more variations!\\n\""
      ]
     },
     "execution_count": 25,
     "metadata": {},
     "output_type": "execute_result"
    }
   ],
   "source": [
    "from langchain_core.output_parsers import StrOutputParser\n",
    "parser=StrOutputParser()\n",
    "parser.invoke(response)"
   ]
  },
  {
   "cell_type": "code",
   "execution_count": 26,
   "id": "b1ea68a5",
   "metadata": {},
   "outputs": [
    {
     "data": {
      "text/plain": [
       "\"Hello, how are you?\\n\\n**French:**\\n\\nBonjour, comment allez-vous ? \\n\\n\\nLet me know if you have any other phrases you'd like translated!\\n\""
      ]
     },
     "execution_count": 26,
     "metadata": {},
     "output_type": "execute_result"
    }
   ],
   "source": [
    "#Using LCEL we can chain the components\n",
    "\n",
    "chain=model|parser\n",
    "chain.invoke(messages)"
   ]
  },
  {
   "cell_type": "markdown",
   "id": "b5bd27f0",
   "metadata": {},
   "source": [
    "it basically chains the whole process..\n",
    "1st the query will run through the model and then parser will the fine the final answer."
   ]
  },
  {
   "cell_type": "code",
   "execution_count": 28,
   "id": "c2dfa14d",
   "metadata": {},
   "outputs": [],
   "source": [
    "#Prompt Templates\n",
    "\n",
    "from langchain_core.prompts import ChatPromptTemplate\n",
    "\n",
    "generic_prompt_temp=\"Transalte the following into {language}\"\n",
    "\n",
    "prompt=ChatPromptTemplate.from_messages(\n",
    "    [(\"system\",generic_prompt_temp),\n",
    "    (\"user\",\"{text}\")]\n",
    ")"
   ]
  },
  {
   "cell_type": "code",
   "execution_count": 30,
   "id": "5d353d36",
   "metadata": {},
   "outputs": [],
   "source": [
    "result=prompt.invoke({\"language\":\"French\",\"text\":\"Hello\"})"
   ]
  },
  {
   "cell_type": "code",
   "execution_count": 32,
   "id": "b613ab8b",
   "metadata": {},
   "outputs": [
    {
     "data": {
      "text/plain": [
       "[SystemMessage(content='Transalte the following into French', additional_kwargs={}, response_metadata={}),\n",
       " HumanMessage(content='Hello', additional_kwargs={}, response_metadata={})]"
      ]
     },
     "execution_count": 32,
     "metadata": {},
     "output_type": "execute_result"
    }
   ],
   "source": [
    "result.to_messages()"
   ]
  },
  {
   "cell_type": "code",
   "execution_count": 36,
   "id": "7df6a05e",
   "metadata": {},
   "outputs": [],
   "source": [
    "#creating the chain and chaining together components with LCEL\n",
    "\n",
    "chain=prompt|model|parser"
   ]
  },
  {
   "cell_type": "markdown",
   "id": "45fce61a",
   "metadata": {},
   "source": [
    "it basically chains the whole process..\n",
    "1st the model will get the prompt then the query will run through the model and then parser will the fine the final answer."
   ]
  },
  {
   "cell_type": "code",
   "execution_count": 37,
   "id": "4fae8d7d",
   "metadata": {},
   "outputs": [
    {
     "data": {
      "text/plain": [
       "'Bonjour \\n'"
      ]
     },
     "execution_count": 37,
     "metadata": {},
     "output_type": "execute_result"
    }
   ],
   "source": [
    "chain.invoke({\"language\":\"French\",\"text\":\"Hello\"})"
   ]
  },
  {
   "cell_type": "code",
   "execution_count": null,
   "id": "45e9080c",
   "metadata": {},
   "outputs": [],
   "source": []
  }
 ],
 "metadata": {
  "kernelspec": {
   "display_name": "Python 3",
   "language": "python",
   "name": "python3"
  },
  "language_info": {
   "codemirror_mode": {
    "name": "ipython",
    "version": 3
   },
   "file_extension": ".py",
   "mimetype": "text/x-python",
   "name": "python",
   "nbconvert_exporter": "python",
   "pygments_lexer": "ipython3",
   "version": "3.10.0"
  }
 },
 "nbformat": 4,
 "nbformat_minor": 5
}
