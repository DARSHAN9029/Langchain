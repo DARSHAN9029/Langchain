{
 "cells": [
  {
   "cell_type": "markdown",
   "id": "c19ff428",
   "metadata": {},
   "source": [
    "# Get started with langchain\n",
    "\n",
    "1. Get setup with langchain , langsmith n Langserve\n",
    "2. Use the most basic and common componenets of Langchain: prompt templates , models and inputs and outputs parsers.\n",
    "3. Build simple application iwth Langchain\n",
    "4. Trace Your appication wih Langmith\n",
    "5. Serve your application with langserve."
   ]
  }
 ],
 "metadata": {
  "kernelspec": {
   "display_name": "venv",
   "language": "python",
   "name": "python3"
  },
  "language_info": {
   "name": "python",
   "version": "3.10.0"
  }
 },
 "nbformat": 4,
 "nbformat_minor": 5
}
