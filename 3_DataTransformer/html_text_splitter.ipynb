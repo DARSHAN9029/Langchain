{
 "cells": [
  {
   "cell_type": "markdown",
   "id": "a0943f47",
   "metadata": {},
   "source": [
    "# HTML TEXT SPLITTER"
   ]
  },
  {
   "cell_type": "code",
   "execution_count": 8,
   "id": "28a08455",
   "metadata": {},
   "outputs": [],
   "source": [
    "from langchain_text_splitters import HTMLHeaderTextSplitter\n",
    "\n",
    "html_string=\"\"\"\n",
    "<!DOCTYPE html>\n",
    "<html lang=\"en\">\n",
    "<head>\n",
    "    <meta charset=\"UTF-8\">\n",
    "    <title>Sample HTML for Header Text Splitting</title>\n",
    "</head>\n",
    "<body>\n",
    "    <h1>Welcome to My Blog</h1>\n",
    "    <p>This is the introduction paragraph. It gives a brief overview.</p>\n",
    "\n",
    "    <h2>About Me</h2>\n",
    "    <p>I am a software developer who loves AI and open-source projects.</p>\n",
    "\n",
    "    <h3>Education</h3>\n",
    "    <p>I studied computer science and AI at university.</p>\n",
    "\n",
    "    <h3>Work Experience</h3>\n",
    "    <ul>\n",
    "        <li>Company A - Frontend Developer</li>\n",
    "        <li>Company B - AI Research Intern</li>\n",
    "    </ul>\n",
    "\n",
    "    <h2>Projects</h2>\n",
    "    <h3>Project 1: AI Chatbot</h3>\n",
    "    <p>This project uses NLP and transformer models to generate responses.</p>\n",
    "\n",
    "    <h3>Project 2: Price Prediction</h3>\n",
    "    <p>An ML model that predicts product prices based on market data.</p>\n",
    "\n",
    "    <h2>Contact</h2>\n",
    "    <p>You can contact me at <a href=\"mailto:someone@example.com\">someone@example.com</a>.</p>\n",
    "\n",
    "    <h4>Social Media</h4>\n",
    "    <ul>\n",
    "        <li><a href=\"https://twitter.com/myhandle\">Twitter</a></li>\n",
    "        <li><a href=\"https://github.com/myhandle\">GitHub</a></li>\n",
    "    </ul>\n",
    "\n",
    "    <h5>Footer Note</h5>\n",
    "    <p>All content is © 2025 by the author.</p>\n",
    "</body>\n",
    "</html>\n",
    "\"\"\"\n",
    "\n",
    "\n",
    "headers_to_split_on=[\n",
    "    (\"h1\",\"Header 1\"),\n",
    "    (\"h2\",\"Header 2\"),\n",
    "    (\"h3\",\"Header 3\"),\n",
    "    (\"h4\",\"Header 4\")\n",
    "]\n",
    "\n",
    "html_splitter=HTMLHeaderTextSplitter(headers_to_split_on)\n",
    "html_header_split=html_splitter.split_text(html_string)"
   ]
  },
  {
   "cell_type": "code",
   "execution_count": 9,
   "id": "96273147",
   "metadata": {},
   "outputs": [
    {
     "data": {
      "text/plain": [
       "[Document(metadata={'Header 1': 'Welcome to My Blog'}, page_content='Welcome to My Blog'),\n",
       " Document(metadata={'Header 1': 'Welcome to My Blog'}, page_content='This is the introduction paragraph. It gives a brief overview.'),\n",
       " Document(metadata={'Header 1': 'Welcome to My Blog', 'Header 2': 'About Me'}, page_content='About Me'),\n",
       " Document(metadata={'Header 1': 'Welcome to My Blog', 'Header 2': 'About Me'}, page_content='I am a software developer who loves AI and open-source projects.'),\n",
       " Document(metadata={'Header 1': 'Welcome to My Blog', 'Header 2': 'About Me', 'Header 3': 'Education'}, page_content='Education'),\n",
       " Document(metadata={'Header 1': 'Welcome to My Blog', 'Header 2': 'About Me', 'Header 3': 'Education'}, page_content='I studied computer science and AI at university.'),\n",
       " Document(metadata={'Header 1': 'Welcome to My Blog', 'Header 2': 'About Me', 'Header 3': 'Work Experience'}, page_content='Work Experience'),\n",
       " Document(metadata={'Header 1': 'Welcome to My Blog', 'Header 2': 'About Me', 'Header 3': 'Work Experience'}, page_content='Company A - Frontend Developer  \\nCompany B - AI Research Intern'),\n",
       " Document(metadata={'Header 1': 'Welcome to My Blog', 'Header 2': 'Projects'}, page_content='Projects'),\n",
       " Document(metadata={'Header 1': 'Welcome to My Blog', 'Header 2': 'Projects', 'Header 3': 'Project 1: AI Chatbot'}, page_content='Project 1: AI Chatbot'),\n",
       " Document(metadata={'Header 1': 'Welcome to My Blog', 'Header 2': 'Projects', 'Header 3': 'Project 1: AI Chatbot'}, page_content='This project uses NLP and transformer models to generate responses.'),\n",
       " Document(metadata={'Header 1': 'Welcome to My Blog', 'Header 2': 'Projects', 'Header 3': 'Project 2: Price Prediction'}, page_content='Project 2: Price Prediction'),\n",
       " Document(metadata={'Header 1': 'Welcome to My Blog', 'Header 2': 'Projects', 'Header 3': 'Project 2: Price Prediction'}, page_content='An ML model that predicts product prices based on market data.'),\n",
       " Document(metadata={'Header 1': 'Welcome to My Blog', 'Header 2': 'Contact'}, page_content='Contact'),\n",
       " Document(metadata={'Header 1': 'Welcome to My Blog', 'Header 2': 'Contact'}, page_content='You can contact me at .  \\nsomeone@example.com'),\n",
       " Document(metadata={'Header 1': 'Welcome to My Blog', 'Header 2': 'Contact', 'Header 4': 'Social Media'}, page_content='Social Media'),\n",
       " Document(metadata={'Header 1': 'Welcome to My Blog', 'Header 2': 'Contact', 'Header 4': 'Social Media'}, page_content='Twitter  \\nGitHub  \\nFooter Note  \\nAll content is © 2025 by the author.')]"
      ]
     },
     "execution_count": 9,
     "metadata": {},
     "output_type": "execute_result"
    }
   ],
   "source": [
    "html_header_split"
   ]
  },
  {
   "cell_type": "code",
   "execution_count": null,
   "id": "0e577533",
   "metadata": {},
   "outputs": [],
   "source": []
  }
 ],
 "metadata": {
  "kernelspec": {
   "display_name": "venv",
   "language": "python",
   "name": "python3"
  },
  "language_info": {
   "codemirror_mode": {
    "name": "ipython",
    "version": 3
   },
   "file_extension": ".py",
   "mimetype": "text/x-python",
   "name": "python",
   "nbconvert_exporter": "python",
   "pygments_lexer": "ipython3",
   "version": "3.10.0"
  }
 },
 "nbformat": 4,
 "nbformat_minor": 5
}
