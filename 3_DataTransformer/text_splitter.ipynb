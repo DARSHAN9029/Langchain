{
 "cells": [
  {
   "cell_type": "markdown",
   "id": "4e8b32af",
   "metadata": {},
   "source": [
    "# Recursive character text splitter"
   ]
  },
  {
   "cell_type": "code",
   "execution_count": 38,
   "id": "bd901368",
   "metadata": {},
   "outputs": [
    {
     "data": {
      "text/plain": [
       "[Document(metadata={'source': 'speech.txt'}, page_content='The world must be made safe for democracy. Its peace must be planted upon the tested foundations of political liberty. We have no selfish ends to serve. We desire no conquest, no dominion. We seek no indemnities for ourselves, no material compensation for the sacrifices we shall freely make. We are but one of the champions of the rights of mankind. We shall be satisfied when those rights have been made as secure as the faith and the freedom of nations can make them.\\n\\nJust because we fight without rancor and without selfish object, seeking nothing for ourselves but what we shall wish to share with all free peoples, we shall, I feel confident, conduct our operations as belligerents without passion and ourselves observe with proud punctilio the principles of right and of fair play we profess to be fighting for.\\n\\n…\\n\\nIt will be all the easier for us to conduct ourselves as belligerents in a high spirit of right and fairness because we act without animus, not in enmity toward a people or with the desire to bring any injury or disadvantage upon them, but only in armed opposition to an irresponsible government which has thrown aside all considerations of humanity and of right and is running amuck. We are, let me say again, the sincere friends of the German people, and shall desire nothing so much as the early reestablishment of intimate relations of mutual advantage between us—however hard it may be for them, for the time being, to believe that this is spoken from our hearts.\\n\\nWe have borne with their present government through all these bitter months because of that friendship—exercising a patience and forbearance which would otherwise have been impossible. We shall, happily, still have an opportunity to prove that friendship in our daily attitude and actions toward the millions of men and women of German birth and native sympathy who live among us and share our life, and we shall be proud to prove it toward all who are in fact loyal to their neighbors and to the government in the hour of test. They are, most of them, as true and loyal Americans as if they had never known any other fealty or allegiance. They will be prompt to stand with us in rebuking and restraining the few who may be of a different mind and purpose. If there should be disloyalty, it will be dealt with with a firm hand of stern repression; but, if it lifts its head at all, it will lift it only here and there and without countenance except from a lawless and malignant few.\\n\\nIt is a distressing and oppressive duty, gentlemen of the Congress, which I have performed in thus addressing you. There are, it may be, many months of fiery trial and sacrifice ahead of us. It is a fearful thing to lead this great peaceful people into war, into the most terrible and disastrous of all wars, civilization itself seeming to be in the balance. But the right is more precious than peace, and we shall fight for the things which we have always carried nearest our hearts—for democracy, for the right of those who submit to authority to have a voice in their own governments, for the rights and liberties of small nations, for a universal dominion of right by such a concert of free peoples as shall bring peace and safety to all nations and make the world itself at last free.\\n\\nTo such a task we can dedicate our lives and our fortunes, everything that we are and everything that we have, with the pride of those who know that the day has come when America is privileged to spend her blood and her might for the principles that gave her birth and happiness and the peace which she has treasured. God helping her, she can do no other.')]"
      ]
     },
     "execution_count": 38,
     "metadata": {},
     "output_type": "execute_result"
    }
   ],
   "source": [
    "#text loading\n",
    "\n",
    "from langchain_community.document_loaders import TextLoader\n",
    "\n",
    "loader=TextLoader('speech.txt')\n",
    "docs=loader.load()\n",
    "docs"
   ]
  },
  {
   "cell_type": "code",
   "execution_count": 39,
   "id": "511687c2",
   "metadata": {},
   "outputs": [
    {
     "data": {
      "text/plain": [
       "'The world must be made safe for democracy. Its peace must be planted upon the tested foundations of political liberty. We have no selfish ends to serve. We desire no conquest, no dominion. We seek no indemnities for ourselves, no material compensation for the sacrifices we shall freely make. We are but one of the champions of the rights of mankind. We shall be satisfied when those rights have been made as secure as the faith and the freedom of nations can make them.\\n\\nJust because we fight without rancor and without selfish object, seeking nothing for ourselves but what we shall wish to share with all free peoples, we shall, I feel confident, conduct our operations as belligerents without passion and ourselves observe with proud punctilio the principles of right and of fair play we profess to be fighting for.\\n\\n…\\n\\nIt will be all the easier for us to conduct ourselves as belligerents in a high spirit of right and fairness because we act without animus, not in enmity toward a people or with the desire to bring any injury or disadvantage upon them, but only in armed opposition to an irresponsible government which has thrown aside all considerations of humanity and of right and is running amuck. We are, let me say again, the sincere friends of the German people, and shall desire nothing so much as the early reestablishment of intimate relations of mutual advantage between us—however hard it may be for them, for the time being, to believe that this is spoken from our hearts.\\n\\nWe have borne with their present government through all these bitter months because of that friendship—exercising a patience and forbearance which would otherwise have been impossible. We shall, happily, still have an opportunity to prove that friendship in our daily attitude and actions toward the millions of men and women of German birth and native sympathy who live among us and share our life, and we shall be proud to prove it toward all who are in fact loyal to their neighbors and to the government in the hour of test. They are, most of them, as true and loyal Americans as if they had never known any other fealty or allegiance. They will be prompt to stand with us in rebuking and restraining the few who may be of a different mind and purpose. If there should be disloyalty, it will be dealt with with a firm hand of stern repression; but, if it lifts its head at all, it will lift it only here and there and without countenance except from a lawless and malignant few.\\n\\nIt is a distressing and oppressive duty, gentlemen of the Congress, which I have performed in thus addressing you. There are, it may be, many months of fiery trial and sacrifice ahead of us. It is a fearful thing to lead this great peaceful people into war, into the most terrible and disastrous of all wars, civilization itself seeming to be in the balance. But the right is more precious than peace, and we shall fight for the things which we have always carried nearest our hearts—for democracy, for the right of those who submit to authority to have a voice in their own governments, for the rights and liberties of small nations, for a universal dominion of right by such a concert of free peoples as shall bring peace and safety to all nations and make the world itself at last free.\\n\\nTo such a task we can dedicate our lives and our fortunes, everything that we are and everything that we have, with the pride of those who know that the day has come when America is privileged to spend her blood and her might for the principles that gave her birth and happiness and the peace which she has treasured. God helping her, she can do no other.'"
      ]
     },
     "execution_count": 39,
     "metadata": {},
     "output_type": "execute_result"
    }
   ],
   "source": [
    "speech=\"\"\n",
    "with open(\"speech.txt\") as f:\n",
    "    speech=f.read()\n",
    "\n",
    "speech\n"
   ]
  },
  {
   "cell_type": "code",
   "execution_count": 42,
   "id": "f3d1bc20",
   "metadata": {},
   "outputs": [
    {
     "name": "stdout",
     "output_type": "stream",
     "text": [
      "[Document(metadata={}, page_content='The world must be made safe for democracy. Its'), Document(metadata={}, page_content='Its peace must be planted upon the tested'), Document(metadata={}, page_content='tested foundations of political liberty. We have'), Document(metadata={}, page_content='We have no selfish ends to serve. We desire no'), Document(metadata={}, page_content='desire no conquest, no dominion. We seek no'), Document(metadata={}, page_content='seek no indemnities for ourselves, no material'), Document(metadata={}, page_content='material compensation for the sacrifices we shall'), Document(metadata={}, page_content='we shall freely make. We are but one of the'), Document(metadata={}, page_content='of the champions of the rights of mankind. We'), Document(metadata={}, page_content='We shall be satisfied when those rights have been'), Document(metadata={}, page_content='have been made as secure as the faith and the'), Document(metadata={}, page_content='and the freedom of nations can make them.'), Document(metadata={}, page_content='Just because we fight without rancor and without'), Document(metadata={}, page_content='without selfish object, seeking nothing for'), Document(metadata={}, page_content='for ourselves but what we shall wish to share'), Document(metadata={}, page_content='to share with all free peoples, we shall, I feel'), Document(metadata={}, page_content='I feel confident, conduct our operations as'), Document(metadata={}, page_content='as belligerents without passion and ourselves'), Document(metadata={}, page_content='ourselves observe with proud punctilio the'), Document(metadata={}, page_content='the principles of right and of fair play we'), Document(metadata={}, page_content='play we profess to be fighting for.'), Document(metadata={}, page_content='…'), Document(metadata={}, page_content='It will be all the easier for us to conduct'), Document(metadata={}, page_content='conduct ourselves as belligerents in a high'), Document(metadata={}, page_content='in a high spirit of right and fairness because we'), Document(metadata={}, page_content='we act without animus, not in enmity toward a'), Document(metadata={}, page_content='toward a people or with the desire to bring any'), Document(metadata={}, page_content='bring any injury or disadvantage upon them, but'), Document(metadata={}, page_content='them, but only in armed opposition to an'), Document(metadata={}, page_content='to an irresponsible government which has thrown'), Document(metadata={}, page_content='thrown aside all considerations of humanity and'), Document(metadata={}, page_content='and of right and is running amuck. We are, let me'), Document(metadata={}, page_content='let me say again, the sincere friends of the'), Document(metadata={}, page_content='of the German people, and shall desire nothing so'), Document(metadata={}, page_content='so much as the early reestablishment of intimate'), Document(metadata={}, page_content='intimate relations of mutual advantage between'), Document(metadata={}, page_content='between us—however hard it may be for them, for'), Document(metadata={}, page_content='them, for the time being, to believe that this is'), Document(metadata={}, page_content='this is spoken from our hearts.'), Document(metadata={}, page_content='We have borne with their present government'), Document(metadata={}, page_content='through all these bitter months because of that'), Document(metadata={}, page_content='of that friendship—exercising a patience and'), Document(metadata={}, page_content='and forbearance which would otherwise have been'), Document(metadata={}, page_content='have been impossible. We shall, happily, still'), Document(metadata={}, page_content='still have an opportunity to prove that'), Document(metadata={}, page_content='that friendship in our daily attitude and actions'), Document(metadata={}, page_content='actions toward the millions of men and women of'), Document(metadata={}, page_content='women of German birth and native sympathy who'), Document(metadata={}, page_content='who live among us and share our life, and we'), Document(metadata={}, page_content='and we shall be proud to prove it toward all who'), Document(metadata={}, page_content='all who are in fact loyal to their neighbors and'), Document(metadata={}, page_content='and to the government in the hour of test. They'), Document(metadata={}, page_content='They are, most of them, as true and loyal'), Document(metadata={}, page_content='and loyal Americans as if they had never known'), Document(metadata={}, page_content='known any other fealty or allegiance. They will'), Document(metadata={}, page_content='They will be prompt to stand with us in rebuking'), Document(metadata={}, page_content='rebuking and restraining the few who may be of a'), Document(metadata={}, page_content='be of a different mind and purpose. If there'), Document(metadata={}, page_content='If there should be disloyalty, it will be dealt'), Document(metadata={}, page_content='be dealt with with a firm hand of stern'), Document(metadata={}, page_content='of stern repression; but, if it lifts its head at'), Document(metadata={}, page_content='head at all, it will lift it only here and there'), Document(metadata={}, page_content='and there and without countenance except from a'), Document(metadata={}, page_content='from a lawless and malignant few.'), Document(metadata={}, page_content='It is a distressing and oppressive duty,'), Document(metadata={}, page_content='duty, gentlemen of the Congress, which I have'), Document(metadata={}, page_content='I have performed in thus addressing you. There'), Document(metadata={}, page_content='There are, it may be, many months of fiery trial'), Document(metadata={}, page_content='trial and sacrifice ahead of us. It is a fearful'), Document(metadata={}, page_content='a fearful thing to lead this great peaceful'), Document(metadata={}, page_content='peaceful people into war, into the most terrible'), Document(metadata={}, page_content='terrible and disastrous of all wars, civilization'), Document(metadata={}, page_content='itself seeming to be in the balance. But the'), Document(metadata={}, page_content='But the right is more precious than peace, and we'), Document(metadata={}, page_content='and we shall fight for the things which we have'), Document(metadata={}, page_content='we have always carried nearest our hearts—for'), Document(metadata={}, page_content='democracy, for the right of those who submit to'), Document(metadata={}, page_content='submit to authority to have a voice in their own'), Document(metadata={}, page_content='their own governments, for the rights and'), Document(metadata={}, page_content='and liberties of small nations, for a universal'), Document(metadata={}, page_content='universal dominion of right by such a concert of'), Document(metadata={}, page_content='of free peoples as shall bring peace and safety'), Document(metadata={}, page_content='safety to all nations and make the world itself'), Document(metadata={}, page_content='itself at last free.'), Document(metadata={}, page_content='To such a task we can dedicate our lives and our'), Document(metadata={}, page_content='and our fortunes, everything that we are and'), Document(metadata={}, page_content='are and everything that we have, with the pride'), Document(metadata={}, page_content='the pride of those who know that the day has come'), Document(metadata={}, page_content='has come when America is privileged to spend her'), Document(metadata={}, page_content='spend her blood and her might for the principles'), Document(metadata={}, page_content='that gave her birth and happiness and the peace'), Document(metadata={}, page_content='the peace which she has treasured. God helping'), Document(metadata={}, page_content='helping her, she can do no other.')]\n"
     ]
    }
   ],
   "source": [
    "#How to recursively split text into characetrs\n",
    "\n",
    "from langchain_text_splitters import RecursiveCharacterTextSplitter\n",
    "text_splitter=RecursiveCharacterTextSplitter(chunk_size=50,chunk_overlap=10)\n",
    "final_doc=text_splitter.create_documents([speech])\n",
    "print(final_doc)"
   ]
  },
  {
   "cell_type": "code",
   "execution_count": 45,
   "id": "46793b4d",
   "metadata": {},
   "outputs": [
    {
     "name": "stdout",
     "output_type": "stream",
     "text": [
      "page_content='The world must be made safe for democracy. Its'\n",
      "page_content='Its peace must be planted upon the tested'\n",
      "page_content='tested foundations of political liberty. We have'\n"
     ]
    }
   ],
   "source": [
    "print(final_doc[0])\n",
    "print(final_doc[1])\n",
    "print(final_doc[2])"
   ]
  },
  {
   "cell_type": "markdown",
   "id": "c8a01d66",
   "metadata": {},
   "source": [
    "# Character-Character text splitter"
   ]
  },
  {
   "cell_type": "code",
   "execution_count": 46,
   "id": "f8252005",
   "metadata": {},
   "outputs": [
    {
     "data": {
      "text/plain": [
       "[Document(metadata={'source': 'speech.txt'}, page_content='The world must be made safe for democracy. Its peace must be planted upon the tested foundations of political liberty. We have no selfish ends to serve. We desire no conquest, no dominion. We seek no indemnities for ourselves, no material compensation for the sacrifices we shall freely make. We are but one of the champions of the rights of mankind. We shall be satisfied when those rights have been made as secure as the faith and the freedom of nations can make them.\\n\\nJust because we fight without rancor and without selfish object, seeking nothing for ourselves but what we shall wish to share with all free peoples, we shall, I feel confident, conduct our operations as belligerents without passion and ourselves observe with proud punctilio the principles of right and of fair play we profess to be fighting for.\\n\\n…\\n\\nIt will be all the easier for us to conduct ourselves as belligerents in a high spirit of right and fairness because we act without animus, not in enmity toward a people or with the desire to bring any injury or disadvantage upon them, but only in armed opposition to an irresponsible government which has thrown aside all considerations of humanity and of right and is running amuck. We are, let me say again, the sincere friends of the German people, and shall desire nothing so much as the early reestablishment of intimate relations of mutual advantage between us—however hard it may be for them, for the time being, to believe that this is spoken from our hearts.\\n\\nWe have borne with their present government through all these bitter months because of that friendship—exercising a patience and forbearance which would otherwise have been impossible. We shall, happily, still have an opportunity to prove that friendship in our daily attitude and actions toward the millions of men and women of German birth and native sympathy who live among us and share our life, and we shall be proud to prove it toward all who are in fact loyal to their neighbors and to the government in the hour of test. They are, most of them, as true and loyal Americans as if they had never known any other fealty or allegiance. They will be prompt to stand with us in rebuking and restraining the few who may be of a different mind and purpose. If there should be disloyalty, it will be dealt with with a firm hand of stern repression; but, if it lifts its head at all, it will lift it only here and there and without countenance except from a lawless and malignant few.\\n\\nIt is a distressing and oppressive duty, gentlemen of the Congress, which I have performed in thus addressing you. There are, it may be, many months of fiery trial and sacrifice ahead of us. It is a fearful thing to lead this great peaceful people into war, into the most terrible and disastrous of all wars, civilization itself seeming to be in the balance. But the right is more precious than peace, and we shall fight for the things which we have always carried nearest our hearts—for democracy, for the right of those who submit to authority to have a voice in their own governments, for the rights and liberties of small nations, for a universal dominion of right by such a concert of free peoples as shall bring peace and safety to all nations and make the world itself at last free.\\n\\nTo such a task we can dedicate our lives and our fortunes, everything that we are and everything that we have, with the pride of those who know that the day has come when America is privileged to spend her blood and her might for the principles that gave her birth and happiness and the peace which she has treasured. God helping her, she can do no other.')]"
      ]
     },
     "execution_count": 46,
     "metadata": {},
     "output_type": "execute_result"
    }
   ],
   "source": [
    "from langchain_community.document_loaders import TextLoader\n",
    "\n",
    "loader1=TextLoader('speech.txt')\n",
    "docs1=loader1.load()\n",
    "docs1"
   ]
  },
  {
   "cell_type": "code",
   "execution_count": 48,
   "id": "b19b0d68",
   "metadata": {},
   "outputs": [
    {
     "name": "stderr",
     "output_type": "stream",
     "text": [
      "Created a chunk of size 470, which is longer than the specified 100\n",
      "Created a chunk of size 347, which is longer than the specified 100\n",
      "Created a chunk of size 668, which is longer than the specified 100\n",
      "Created a chunk of size 982, which is longer than the specified 100\n",
      "Created a chunk of size 789, which is longer than the specified 100\n"
     ]
    },
    {
     "name": "stdout",
     "output_type": "stream",
     "text": [
      "page_content='The world must be made safe for democracy. Its peace must be planted upon the tested foundations of political liberty. We have no selfish ends to serve. We desire no conquest, no dominion. We seek no indemnities for ourselves, no material compensation for the sacrifices we shall freely make. We are but one of the champions of the rights of mankind. We shall be satisfied when those rights have been made as secure as the faith and the freedom of nations can make them.' metadata={'source': 'speech.txt'}\n",
      "page_content='Just because we fight without rancor and without selfish object, seeking nothing for ourselves but what we shall wish to share with all free peoples, we shall, I feel confident, conduct our operations as belligerents without passion and ourselves observe with proud punctilio the principles of right and of fair play we profess to be fighting for.' metadata={'source': 'speech.txt'}\n"
     ]
    }
   ],
   "source": [
    "speech1=\"\"\n",
    "with open(\"speech.txt\") as file:\n",
    "    speech1=file.read()\n",
    "\n",
    "\n",
    "\n",
    "from langchain_text_splitters import CharacterTextSplitter\n",
    "text=CharacterTextSplitter(separator=\"\\n\\n\",chunk_size=100,chunk_overlap=20)\n",
    "text=text.split_documents(docs1)\n",
    "print(text[0])\n",
    "print(text[1])\n"
   ]
  },
  {
   "cell_type": "code",
   "execution_count": null,
   "id": "c479d41c",
   "metadata": {},
   "outputs": [],
   "source": []
  }
 ],
 "metadata": {
  "kernelspec": {
   "display_name": "venv",
   "language": "python",
   "name": "python3"
  },
  "language_info": {
   "codemirror_mode": {
    "name": "ipython",
    "version": 3
   },
   "file_extension": ".py",
   "mimetype": "text/x-python",
   "name": "python",
   "nbconvert_exporter": "python",
   "pygments_lexer": "ipython3",
   "version": "3.10.0"
  }
 },
 "nbformat": 4,
 "nbformat_minor": 5
}
